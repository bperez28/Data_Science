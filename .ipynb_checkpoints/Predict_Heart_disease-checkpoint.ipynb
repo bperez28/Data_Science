{
 "cells": [
  {
   "cell_type": "code",
   "execution_count": 2,
   "metadata": {},
   "outputs": [
    {
     "data": {
      "text/html": [
       "<div>\n",
       "<style scoped>\n",
       "    .dataframe tbody tr th:only-of-type {\n",
       "        vertical-align: middle;\n",
       "    }\n",
       "\n",
       "    .dataframe tbody tr th {\n",
       "        vertical-align: top;\n",
       "    }\n",
       "\n",
       "    .dataframe thead th {\n",
       "        text-align: right;\n",
       "    }\n",
       "</style>\n",
       "<table border=\"1\" class=\"dataframe\">\n",
       "  <thead>\n",
       "    <tr style=\"text-align: right;\">\n",
       "      <th></th>\n",
       "      <th>Age</th>\n",
       "      <th>Gender</th>\n",
       "      <th>ChestPain</th>\n",
       "      <th>RestBP</th>\n",
       "      <th>Chol</th>\n",
       "      <th>RestECG</th>\n",
       "      <th>MaxHR</th>\n",
       "      <th>Oldpeak</th>\n",
       "      <th>Thal</th>\n",
       "      <th>AHD</th>\n",
       "    </tr>\n",
       "  </thead>\n",
       "  <tbody>\n",
       "    <tr>\n",
       "      <th>0</th>\n",
       "      <td>63</td>\n",
       "      <td>f</td>\n",
       "      <td>typical</td>\n",
       "      <td>145</td>\n",
       "      <td>233</td>\n",
       "      <td>2</td>\n",
       "      <td>150</td>\n",
       "      <td>2.3</td>\n",
       "      <td>fixed</td>\n",
       "      <td>No</td>\n",
       "    </tr>\n",
       "    <tr>\n",
       "      <th>1</th>\n",
       "      <td>67</td>\n",
       "      <td>f</td>\n",
       "      <td>asymptomatic</td>\n",
       "      <td>160</td>\n",
       "      <td>286</td>\n",
       "      <td>2</td>\n",
       "      <td>108</td>\n",
       "      <td>1.5</td>\n",
       "      <td>normal</td>\n",
       "      <td>Yes</td>\n",
       "    </tr>\n",
       "    <tr>\n",
       "      <th>2</th>\n",
       "      <td>67</td>\n",
       "      <td>f</td>\n",
       "      <td>asymptomatic</td>\n",
       "      <td>120</td>\n",
       "      <td>229</td>\n",
       "      <td>2</td>\n",
       "      <td>129</td>\n",
       "      <td>2.6</td>\n",
       "      <td>reversable</td>\n",
       "      <td>Yes</td>\n",
       "    </tr>\n",
       "    <tr>\n",
       "      <th>3</th>\n",
       "      <td>37</td>\n",
       "      <td>f</td>\n",
       "      <td>nonanginal</td>\n",
       "      <td>130</td>\n",
       "      <td>250</td>\n",
       "      <td>0</td>\n",
       "      <td>187</td>\n",
       "      <td>3.5</td>\n",
       "      <td>normal</td>\n",
       "      <td>No</td>\n",
       "    </tr>\n",
       "    <tr>\n",
       "      <th>4</th>\n",
       "      <td>41</td>\n",
       "      <td>m</td>\n",
       "      <td>nontypical</td>\n",
       "      <td>130</td>\n",
       "      <td>204</td>\n",
       "      <td>2</td>\n",
       "      <td>172</td>\n",
       "      <td>1.4</td>\n",
       "      <td>normal</td>\n",
       "      <td>No</td>\n",
       "    </tr>\n",
       "  </tbody>\n",
       "</table>\n",
       "</div>"
      ],
      "text/plain": [
       "   Age Gender     ChestPain  RestBP  Chol  RestECG  MaxHR  Oldpeak  \\\n",
       "0   63      f       typical     145   233        2    150      2.3   \n",
       "1   67      f  asymptomatic     160   286        2    108      1.5   \n",
       "2   67      f  asymptomatic     120   229        2    129      2.6   \n",
       "3   37      f    nonanginal     130   250        0    187      3.5   \n",
       "4   41      m    nontypical     130   204        2    172      1.4   \n",
       "\n",
       "         Thal  AHD  \n",
       "0       fixed   No  \n",
       "1      normal  Yes  \n",
       "2  reversable  Yes  \n",
       "3      normal   No  \n",
       "4      normal   No  "
      ]
     },
     "execution_count": 2,
     "metadata": {},
     "output_type": "execute_result"
    }
   ],
   "source": [
    "import pandas as pd\n",
    "from sklearn.neighbors import KNeighborsClassifier\n",
    "from sklearn.metrics import accuracy_score\n",
    "from sklearn.model_selection import train_test_split\n",
    "from sklearn.linear_model import LogisticRegression\n",
    "from sklearn.tree import DecisionTreeClassifier\n",
    "from sklearn.model_selection import cross_val_score\n",
    "\n",
    "df = pd.read_csv(\"https://github.com/mpourhoma/CS4661/raw/master/Heart_s.csv\")\n",
    "newdf = pd.read_csv(\"https://github.com/mpourhoma/CS4661/raw/master/Heart_s.csv\")\n",
    "features = ['Age', 'RestBP', 'Chol', 'RestECG', 'MaxHR','Oldpeak']\n",
    "f = df[features]\n",
    "a = df['AHD']\n"
   ]
  },
  {
   "cell_type": "code",
   "execution_count": 101,
   "metadata": {
    "scrolled": true
   },
   "outputs": [],
   "source": [
    "\n",
    "#knn\n",
    "train_f, test_f, train_s, test_s = train_test_split(f,a,test_size=0.25,random_state=6)\n",
    "\n",
    "k =3 \n",
    "k_class = KNeighborsClassifier(n_neighbors=k)\n",
    "k_class.fit = k_class.fit(train_f,train_s)\n",
    "predict_s = k_class.predict(test_f)\n",
    "\n",
    "accuracy = accuracy_score(test_s,predict_s)\n"
   ]
  },
  {
   "cell_type": "code",
   "execution_count": 102,
   "metadata": {},
   "outputs": [],
   "source": [
    "\n",
    "#logistic regression\n",
    "l_regress = LogisticRegression()\n",
    "l_regress = l_regress.fit(train_f, train_s)\n",
    "\n",
    "predict_l_regress_s = l_regress.predict(test_f)\n",
    "\n",
    "accuracy_l_regress = accuracy_score(test_s, predict_l_regress_s)\n"
   ]
  },
  {
   "cell_type": "code",
   "execution_count": 103,
   "metadata": {},
   "outputs": [],
   "source": [
    "\n",
    "#Decision Tree\n",
    "tr_train_f, tr_test_f, tr_train_s, tr_test_s = train_test_split(f,a,test_size=0.25,random_state=5)\n",
    "\n",
    "dtrclass = DecisionTreeClassifier()\n",
    "dtrclass = dtrclass.fit(tr_train_f, tr_train_s)\n",
    "\n",
    "tr_predict_s = dtrclass.predict(tr_test_f)\n",
    "tr_accuracy = accuracy_score(tr_test_s, tr_predict_s)\n",
    "\n"
   ]
  },
  {
   "cell_type": "code",
   "execution_count": 104,
   "metadata": {
    "scrolled": false
   },
   "outputs": [
    {
     "name": "stdout",
     "output_type": "stream",
     "text": [
      "Decision Tree Accuracy:0.7236842105263158\n",
      "Logistic Regression Accuracy:0.6710526315789473\n",
      "KNN Classifier Accuracy:0.6447368421052632\n"
     ]
    }
   ],
   "source": [
    "print('Decision Tree Accuracy:' + str(tr_accuracy))\n",
    "print('Logistic Regression Accuracy:' + str(accuracy_l_regress))\n",
    "print('KNN Classifier Accuracy:' + str(accuracy))\n"
   ]
  },
  {
   "cell_type": "markdown",
   "metadata": {},
   "source": [
    "KNN Classifier has the worst accuracy and Decision Tree has the best accuracy "
   ]
  },
  {
   "cell_type": "markdown",
   "metadata": {},
   "source": [
    " OneHotEncode:"
   ]
  },
  {
   "cell_type": "code",
   "execution_count": 105,
   "metadata": {},
   "outputs": [],
   "source": [
    "hot_Chest = pd.get_dummies(newdf['ChestPain'],prefix='')\n",
    "hot_Gender = pd.get_dummies(newdf['Gender'], prefix='')\n",
    "hot_Thal = pd.get_dummies(newdf['Thal'], prefix='')\n",
    "\n",
    "newdf = pd.concat([newdf, hot_Chest],axis=1)\n",
    "newdf = pd.concat([newdf, hot_Gender],axis=1)\n",
    "newdf = pd.concat([newdf, hot_Thal],axis=1)\n",
    " \n",
    "newdf.drop(['ChestPain','Gender','Thal'],axis=1,inplace=True)\n"
   ]
  },
  {
   "cell_type": "markdown",
   "metadata": {},
   "source": [
    "Retest after OneHotEncode:"
   ]
  },
  {
   "cell_type": "code",
   "execution_count": 106,
   "metadata": {},
   "outputs": [],
   "source": [
    "hot_features = ['Age', 'RestBP', 'Chol', 'RestECG', 'MaxHR', 'Oldpeak', '_asymptomatic',\n",
    "                '_nonanginal','_nontypical','_typical','_f','_m','_fixed','_normal','_reversable']\n",
    "f_hot = newdf[hot_features]\n",
    "s_hot = newdf['AHD']\n"
   ]
  },
  {
   "cell_type": "code",
   "execution_count": 107,
   "metadata": {},
   "outputs": [],
   "source": [
    "f_train,f_test,s_train,s_test = train_test_split(f_hot,s_hot,test_size=0.25,random_state=6)\n",
    "f_tr_train,f_tr_test,s_tr_train,s_tr_test = train_test_split(f_hot,s_hot,test_size=0.25,random_state=5)\n",
    "\n",
    "#OneHotEncoding KNN\n",
    "k_hot =3\n",
    "k_hot_class = KNeighborsClassifier(n_neighbors=k_hot)\n",
    "k_hot_class = k_hot_class.fit(f_train,s_train)\n",
    "\n",
    "s_hot_predict = k_hot_class.predict(f_test)\n",
    "hot_accuracy = accuracy_score(s_test,s_hot_predict)\n"
   ]
  },
  {
   "cell_type": "code",
   "execution_count": 108,
   "metadata": {},
   "outputs": [],
   "source": [
    "#OneHotEncoding Logistic Regression\n",
    "hot_log = LogisticRegression()\n",
    "hot_log.max_iter = 2000\n",
    "hot_log = hot_log.fit(f_train,s_train)\n",
    "\n",
    "s_hot_log_pred = hot_log.predict(f_test)\n",
    "hot_log_accuracy = accuracy_score(s_test,s_hot_log_pred)\n"
   ]
  },
  {
   "cell_type": "code",
   "execution_count": 109,
   "metadata": {},
   "outputs": [],
   "source": [
    "#OneHotEncoding Decision Tree\n",
    "hot_decision = DecisionTreeClassifier()\n",
    "hot_decision = hot_decision.fit(f_tr_train,s_tr_train)\n",
    "\n",
    "s_hot_decision_pred = hot_decision.predict(f_tr_test)\n",
    "\n",
    "hot_tr_accuracy = accuracy_score(s_tr_test,s_hot_decision_pred)"
   ]
  },
  {
   "cell_type": "code",
   "execution_count": 110,
   "metadata": {},
   "outputs": [
    {
     "name": "stdout",
     "output_type": "stream",
     "text": [
      "OneHotEncoding Decision Tree Accuracy:0.8157894736842105\n",
      "OneHotEncoding Logistic Regression Accuracy:0.7763157894736842\n",
      "OneHotEncoding KNN Classifier Accuracy:0.6447368421052632\n"
     ]
    }
   ],
   "source": [
    "print('OneHotEncoding Decision Tree Accuracy:' + str(hot_tr_accuracy))\n",
    "print('OneHotEncoding Logistic Regression Accuracy:' + str(hot_log_accuracy))\n",
    "print('OneHotEncoding KNN Classifier Accuracy:' + str(hot_accuracy))\n"
   ]
  },
  {
   "cell_type": "markdown",
   "metadata": {},
   "source": [
    "The best accuracy is the OneHotEncoding Decision Tree \n",
    "and the worst accuracy is the OneHotEncoding KNN Classifier. Both decision tree and logistic regression accuracy is .10 better, but KNN Classifier accuracy is the same."
   ]
  },
  {
   "cell_type": "code",
   "execution_count": 111,
   "metadata": {},
   "outputs": [],
   "source": [
    "#Cross-val KNN\n",
    "knn = KNeighborsClassifier(n_neighbors=3)\n",
    "\n",
    "knn_accuracy = cross_val_score(knn,f_hot,s_hot,cv=10,scoring='accuracy')\n",
    "\n",
    "knn_avg = knn_accuracy.mean()\n"
   ]
  },
  {
   "cell_type": "code",
   "execution_count": 112,
   "metadata": {},
   "outputs": [],
   "source": [
    "#Cross-val Logistic Regression\n",
    "log_reg = LogisticRegression(max_iter=2000)\n",
    "\n",
    "log_reg_accuracy = cross_val_score(log_reg,f_hot,s_hot,cv=10,scoring='accuracy')\n",
    "log_reg_avg = log_reg_accuracy.mean()\n"
   ]
  },
  {
   "cell_type": "code",
   "execution_count": 113,
   "metadata": {},
   "outputs": [],
   "source": [
    "#Cross-val Decision Tree\n",
    "dec_tree = DecisionTreeClassifier()\n",
    "\n",
    "dec_tree_accuracy = cross_val_score(dec_tree,f_hot,s_hot,cv=10,scoring='accuracy')\n",
    "dec_tree_avg = dec_tree_accuracy.mean()"
   ]
  },
  {
   "cell_type": "code",
   "execution_count": 114,
   "metadata": {},
   "outputs": [
    {
     "name": "stdout",
     "output_type": "stream",
     "text": [
      "Cross-val Decision Tree Accuracy:0.7175268817204301\n",
      "Cross-val Logistic Regression Accuracy:0.8074193548387096\n",
      "Cross-val KNN Classifier Accuracy:0.6343010752688172\n"
     ]
    }
   ],
   "source": [
    "print('Cross-val Decision Tree Accuracy:' + str(dec_tree_avg))\n",
    "print('Cross-val Logistic Regression Accuracy:' + str(log_reg_avg))\n",
    "print('Cross-val KNN Classifier Accuracy:' + str(knn_avg))\n"
   ]
  },
  {
   "cell_type": "markdown",
   "metadata": {},
   "source": [
    "The best accuracy is the cross-val Logistic Regression and the worst accuracy is the OneHotEncoding KNN Classifier."
   ]
  }
 ],
 "metadata": {
  "kernelspec": {
   "display_name": "Python 3",
   "language": "python",
   "name": "python3"
  },
  "language_info": {
   "codemirror_mode": {
    "name": "ipython",
    "version": 3
   },
   "file_extension": ".py",
   "mimetype": "text/x-python",
   "name": "python",
   "nbconvert_exporter": "python",
   "pygments_lexer": "ipython3",
   "version": "3.8.3"
  }
 },
 "nbformat": 4,
 "nbformat_minor": 4
}
