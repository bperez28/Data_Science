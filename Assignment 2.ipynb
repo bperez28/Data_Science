{
 "cells": [
  {
   "cell_type": "code",
   "execution_count": 10,
   "metadata": {},
   "outputs": [
    {
     "data": {
      "text/plain": [
       "KNeighborsClassifier(n_neighbors=3)"
      ]
     },
     "execution_count": 10,
     "metadata": {},
     "output_type": "execute_result"
    }
   ],
   "source": [
    "from sklearn.neighbors import KNeighborsClassifier\n",
    "\n",
    "import numpy as np\n",
    "import pandas as pd\n",
    "\n",
    "iris_df = pd.read_csv('https://raw.githubusercontent.com/mpourhoma/CS4661/master/iris.csv')\n",
    "\n",
    "iris_df[0::10]\n",
    "\n",
    "feature_cols = ['sepal_length','sepal_width','petal_length','petal_width']\n",
    "\n",
    "X = iris_df[feature_cols]  \n",
    "y = iris_df['species'] # this is the original categorical labels (the latest revision of sklearn accepts non-numerical labels)\n",
    "\n",
    "k = 3\n",
    "my_knn_for_cs4661 = KNeighborsClassifier(n_neighbors=k) # name of the object is arbitrary!\n",
    "\n",
    "my_knn_for_cs4661.fit(X, y)\n",
    "\n"
   ]
  },
  {
   "cell_type": "code",
   "execution_count": 11,
   "metadata": {},
   "outputs": [],
   "source": [
    "from sklearn.model_selection import train_test_split\n",
    "\n",
    "X_train, X_test, y_train, y_test = train_test_split(X, y, test_size=0.4, random_state=6)\n",
    "\n"
   ]
  },
  {
   "cell_type": "code",
   "execution_count": 12,
   "metadata": {},
   "outputs": [
    {
     "name": "stdout",
     "output_type": "stream",
     "text": [
      "0.95\n"
     ]
    }
   ],
   "source": [
    "from sklearn.metrics import accuracy_score\n",
    "\n",
    "y_predict = my_knn_for_cs4661.predict(X_test)\n",
    "\n",
    "accuracy = accuracy_score(y_test, y_predict)\n",
    "\n",
    "print(accuracy)"
   ]
  },
  {
   "cell_type": "code",
   "execution_count": 13,
   "metadata": {},
   "outputs": [
    {
     "name": "stdout",
     "output_type": "stream",
     "text": [
      "         actual  prediction\n",
      "4        setosa      setosa\n",
      "116   virginica   virginica\n",
      "2        setosa      setosa\n",
      "23       setosa      setosa\n",
      "123   virginica   virginica\n",
      "96   versicolor  versicolor\n",
      "134   virginica   virginica\n",
      "39       setosa      setosa\n",
      "137   virginica   virginica\n",
      "53   versicolor  versicolor\n",
      "127   virginica   virginica\n",
      "81   versicolor  versicolor\n",
      "115   virginica   virginica\n",
      "135   virginica   virginica\n",
      "74   versicolor  versicolor\n",
      "119   virginica  versicolor\n",
      "105   virginica   virginica\n",
      "51   versicolor  versicolor\n",
      "92   versicolor  versicolor\n",
      "32       setosa      setosa\n",
      "37       setosa      setosa\n",
      "120   virginica   virginica\n",
      "44       setosa      setosa\n",
      "0        setosa      setosa\n",
      "55   versicolor  versicolor\n",
      "72   versicolor   virginica\n",
      "87   versicolor  versicolor\n",
      "102   virginica   virginica\n",
      "30       setosa      setosa\n",
      "93   versicolor  versicolor\n",
      "45       setosa      setosa\n",
      "59   versicolor  versicolor\n",
      "16       setosa      setosa\n",
      "13       setosa      setosa\n",
      "133   virginica  versicolor\n",
      "128   virginica   virginica\n",
      "64   versicolor  versicolor\n",
      "146   virginica   virginica\n",
      "95   versicolor  versicolor\n",
      "49       setosa      setosa\n",
      "17       setosa      setosa\n",
      "103   virginica   virginica\n",
      "71   versicolor  versicolor\n",
      "61   versicolor  versicolor\n",
      "46       setosa      setosa\n",
      "12       setosa      setosa\n",
      "52   versicolor  versicolor\n",
      "27       setosa      setosa\n",
      "34       setosa      setosa\n",
      "54   versicolor  versicolor\n",
      "118   virginica   virginica\n",
      "117   virginica   virginica\n",
      "121   virginica   virginica\n",
      "6        setosa      setosa\n",
      "111   virginica   virginica\n",
      "18       setosa      setosa\n",
      "38       setosa      setosa\n",
      "20       setosa      setosa\n",
      "58   versicolor  versicolor\n",
      "108   virginica   virginica\n"
     ]
    }
   ],
   "source": [
    "results = pd.DataFrame()\n",
    "\n",
    "results['actual'] = y_test \n",
    "results['prediction'] = y_predict \n",
    "\n",
    "print(results)"
   ]
  },
  {
   "cell_type": "code",
   "execution_count": null,
   "metadata": {},
   "outputs": [],
   "source": []
  }
 ],
 "metadata": {
  "kernelspec": {
   "display_name": "Python 3",
   "language": "python",
   "name": "python3"
  },
  "language_info": {
   "codemirror_mode": {
    "name": "ipython",
    "version": 3
   },
   "file_extension": ".py",
   "mimetype": "text/x-python",
   "name": "python",
   "nbconvert_exporter": "python",
   "pygments_lexer": "ipython3",
   "version": "3.8.3"
  }
 },
 "nbformat": 4,
 "nbformat_minor": 4
}
