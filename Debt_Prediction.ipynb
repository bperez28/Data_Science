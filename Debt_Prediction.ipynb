{
 "cells": [
  {
   "cell_type": "code",
   "execution_count": 11,
   "metadata": {},
   "outputs": [],
   "source": [
    "import pandas as pd\n",
    "from sklearn import preprocessing\n",
    "from sklearn.model_selection import train_test_split\n",
    "from sklearn.metrics import accuracy_score\n",
    "from sklearn.linear_model import LinearRegression\n",
    "from sklearn import metrics\n",
    "import numpy as np \n",
    "from sklearn.model_selection import cross_val_score\n",
    "\n",
    "df = pd.read_csv(\"https://github.com/mpourhoma/CS4661/raw/master/Credit.csv\")\n",
    "\n",
    "feature = ['Income', 'Limit', 'Rating', 'Cards', 'Age','Education','Married']\n",
    "f= df[feature]\n",
    "\n",
    "norm_f = preprocessing.scale(f)\n",
    "\n",
    "s = df['Balance']\n",
    "\n",
    "train_f,test_f, train_s, test_s = train_test_split(norm_f,s,test_size=0.24,random_state=9)\n",
    "\n",
    "linear = LinearRegression()\n",
    "linear = linear.fit(train_f,train_s)\n"
   ]
  },
  {
   "cell_type": "code",
   "execution_count": 15,
   "metadata": {},
   "outputs": [
    {
     "name": "stdout",
     "output_type": "stream",
     "text": [
      "[-264.69553256  360.5601294   252.73642988   24.91707959  -17.23897686\n",
      "   11.65810466   -9.82859046]\n",
      "520.0391034603759\n"
     ]
    }
   ],
   "source": [
    "print(''+str(linear.coef_))\n",
    "print(''+str(linear.intercept_))"
   ]
  },
  {
   "cell_type": "markdown",
   "metadata": {},
   "source": [
    "Add whats important and lest important"
   ]
  },
  {
   "cell_type": "code",
   "execution_count": 16,
   "metadata": {},
   "outputs": [],
   "source": [
    "s_predict = linear.predict(test_f)\n",
    "\n",
    "msError = metrics.mean_squared_error(test_s,s_predict)\n",
    "\n",
    "rmse= np.sqrt(msError)\n"
   ]
  },
  {
   "cell_type": "code",
   "execution_count": 17,
   "metadata": {},
   "outputs": [
    {
     "name": "stdout",
     "output_type": "stream",
     "text": [
      "rmse:143.24649739642265\n"
     ]
    }
   ],
   "source": [
    "print('rmse:'+str(rmse))"
   ]
  },
  {
   "cell_type": "code",
   "execution_count": 19,
   "metadata": {},
   "outputs": [],
   "source": [
    "cross_linear = LinearRegression()\n",
    "\n",
    "cross_list = cross_val_score(cross_linear,norm_f,s,cv=10,scoring='neg_mean_squared_error')\n",
    "postive_list = -cross_list\n",
    "rmse_list = np.sqrt(postive_list)"
   ]
  },
  {
   "cell_type": "code",
   "execution_count": 21,
   "metadata": {},
   "outputs": [
    {
     "name": "stdout",
     "output_type": "stream",
     "text": [
      "rmse_list:[153.7754992  178.89394627 188.31527914 193.20353826 119.75525901\n",
      " 183.38039983 177.85385343 111.76315739 144.04725656 152.331702  ]\n",
      "mean_rmse_list:160.33198910744136\n"
     ]
    }
   ],
   "source": [
    "print('rmse_list:'+str(rmse_list))\n",
    "print('mean_rmse_list:'+str(rmse_list.mean()))"
   ]
  },
  {
   "cell_type": "code",
   "execution_count": null,
   "metadata": {},
   "outputs": [],
   "source": []
  }
 ],
 "metadata": {
  "kernelspec": {
   "display_name": "Python 3",
   "language": "python",
   "name": "python3"
  },
  "language_info": {
   "codemirror_mode": {
    "name": "ipython",
    "version": 3
   },
   "file_extension": ".py",
   "mimetype": "text/x-python",
   "name": "python",
   "nbconvert_exporter": "python",
   "pygments_lexer": "ipython3",
   "version": "3.8.3"
  }
 },
 "nbformat": 4,
 "nbformat_minor": 4
}
